{
 "cells": [
  {
   "cell_type": "markdown",
   "id": "ab85ee7d",
   "metadata": {},
   "source": [
    " # Welcome to Blossom\n",
    " \n",
    " \n",
    "  **Hi Ladies good to see**\n",
    "  \n",
    "  \n",
    "   *Its good to see you*\n",
    "   \n",
    "   ~hey there~\n",
    "  "
   ]
  }
 ],
 "metadata": {
  "kernelspec": {
   "display_name": "Python 3 (ipykernel)",
   "language": "python",
   "name": "python3"
  },
  "language_info": {
   "codemirror_mode": {
    "name": "ipython",
    "version": 3
   },
   "file_extension": ".py",
   "mimetype": "text/x-python",
   "name": "python",
   "nbconvert_exporter": "python",
   "pygments_lexer": "ipython3",
   "version": "3.11.5"
  }
 },
 "nbformat": 4,
 "nbformat_minor": 5
}
